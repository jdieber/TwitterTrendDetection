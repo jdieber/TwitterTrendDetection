{
 "cells": [
  {
   "cell_type": "markdown",
   "metadata": {},
   "source": [
    "## Prediction \n",
    "following we will predict how many likes and retweets a tweet is expected to have after 30 Min. <br>\n",
    "1. Load the data \n",
    "2. Train the model with the data set \n",
    "3. Safe Models one for Retweet prediction one for like prediction"
   ]
  },
  {
   "cell_type": "code",
   "execution_count": 1,
   "metadata": {},
   "outputs": [
    {
     "name": "stdout",
     "output_type": "stream",
     "text": [
      "Size before first cleaning: 17458\n",
      "Size after first cleaning: 12970\n"
     ]
    }
   ],
   "source": [
    "import pandas as pd\n",
    "#Load File to train the modell \n",
    "file_name = './merge_new.json'\n",
    "\n",
    "df = pd.read_json(file_name)\n",
    "print('Size before first cleaning: ' + str(len(df)))\n",
    "#Configure the data so that the modell is accurate \n",
    "\n",
    "\n",
    "df = df.rename({'likes 30': 'likes_last'}, axis='columns') #rename column for, makes future work easyer \n",
    "\n",
    "df = df[df.counter == 30] #every tweets needs 30 crwal intervalls \n",
    "\n",
    "df = df[df.text.str.contains('RT', case=True, regex=True) == False] #dropping the retweets for the training otherwise there are to many outlaiers\n",
    "\n",
    "df = df[df.name != 'janboehm'] #drop Jan Böhmerman bec. he's too famouse \n",
    "print('Size after first cleaning: ' + str(len(df)))\n"
   ]
  },
  {
   "cell_type": "code",
   "execution_count": 2,
   "metadata": {},
   "outputs": [
    {
     "name": "stdout",
     "output_type": "stream",
     "text": [
      "R^2 Retweets= 0.9157629067937368\n",
      "R^2 likes= 0.9795724822682852\n"
     ]
    }
   ],
   "source": [
    "from sklearn.linear_model import LinearRegression\n",
    "from sklearn.model_selection import train_test_split\n",
    "from sklearn.preprocessing import PolynomialFeatures\n",
    "X = df[['retweets', 'retweets 4', 'followers']]\n",
    "Y = df[['retweets 30']]\n",
    "score = []\n",
    "\n",
    "X_l = df[['likes', 'likes 4', 'followers']]\n",
    "Y_l = df[['likes_last']]\n",
    "score_l = []\n",
    "\n",
    "for i in range(300):\n",
    "    \n",
    "    X_train, X_test, y_train, y_test = train_test_split(X, Y, test_size = 0.25)\n",
    "    \n",
    "    X_l_train, X_l_test, y_l_train, y_l_test = train_test_split(X_l, Y_l, test_size = 0.25)\n",
    "\n",
    "\n",
    "\n",
    "\n",
    "    pf = PolynomialFeatures(degree = 2, include_bias = False)\n",
    "    pf.fit(X_train)\n",
    "\n",
    "    X_train_transformed = pf.transform(X_train)\n",
    "    X_test_transformed = pf.transform(X_test)\n",
    "\n",
    "    model = LinearRegression()\n",
    "    model.fit(X_train_transformed, y_train)\n",
    "\n",
    "    score.append(model.score(X_test_transformed, y_test))\n",
    "    \n",
    "    \n",
    "    pf_l = PolynomialFeatures(degree = 2, include_bias = False)\n",
    "    pf_l.fit(X_l_train)\n",
    "\n",
    "    X_l_train_transformed = pf.transform(X_l_train)\n",
    "    X_l_test_transformed = pf.transform(X_l_test)\n",
    "\n",
    "    model_l = LinearRegression()\n",
    "    model_l.fit(X_l_train_transformed, y_l_train)\n",
    "\n",
    "    score_l.append(model_l.score(X_l_test_transformed, y_l_test))\n",
    "    \n",
    "    \n",
    "print('R^2 Retweets= ' + str(sum(score)/len(score)))\n",
    "print('R^2 likes= ' + str(sum(score_l)/len(score_l)))"
   ]
  },
  {
   "cell_type": "markdown",
   "metadata": {},
   "source": [
    "##  Train the model and safe traind model to file"
   ]
  },
  {
   "cell_type": "code",
   "execution_count": 3,
   "metadata": {},
   "outputs": [
    {
     "name": "stdout",
     "output_type": "stream",
     "text": [
      "R^2 likes= 0.9817367643269785\n",
      "R^2 Retweets= 0.904850301513469\n"
     ]
    },
    {
     "name": "stderr",
     "output_type": "stream",
     "text": [
      "/home/student/anaconda3/lib/python3.7/site-packages/sklearn/externals/joblib/__init__.py:15: FutureWarning: sklearn.externals.joblib is deprecated in 0.21 and will be removed in 0.23. Please import this functionality directly from joblib, which can be installed with: pip install joblib. If this warning is raised when loading pickled models, you may need to re-serialize those models with scikit-learn 0.21+.\n",
      "  warnings.warn(msg, category=FutureWarning)\n"
     ]
    }
   ],
   "source": [
    "from sklearn.linear_model import LinearRegression\n",
    "from sklearn.model_selection import train_test_split\n",
    "from sklearn.preprocessing import PolynomialFeatures\n",
    "from sklearn.externals import joblib\n",
    "X = df[['retweets', 'retweets 4', 'followers']]\n",
    "Y = df[['retweets 30']]\n",
    "score = []\n",
    "\n",
    "X_l = df[['likes', 'likes 4', 'followers']]\n",
    "Y_l = df[['likes_last']]\n",
    "score_l = []\n",
    "\n",
    "\n",
    "X_train, X_test, y_train, y_test = train_test_split(X, Y, test_size = 0.25)\n",
    "    \n",
    "X_l_train, X_l_test, y_l_train, y_l_test = train_test_split(X_l, Y_l, test_size = 0.25)\n",
    "\n",
    "\n",
    "\n",
    "\n",
    "pf = PolynomialFeatures(degree = 2, include_bias = False)\n",
    "pf.fit(X_train)\n",
    "\n",
    "X_train_transformed = pf.transform(X_train)\n",
    "X_test_transformed = pf.transform(X_test)\n",
    "\n",
    "model = LinearRegression()\n",
    "model.fit(X_train_transformed, y_train)\n",
    "\n",
    "score.append(model.score(X_test_transformed, y_test))\n",
    "\n",
    "\n",
    "pf_l = PolynomialFeatures(degree = 2, include_bias = False)\n",
    "pf_l.fit(X_l_train)\n",
    "\n",
    "X_l_train_transformed = pf.transform(X_l_train)\n",
    "X_l_test_transformed = pf.transform(X_l_test)\n",
    "\n",
    "model_l = LinearRegression()\n",
    "model_l.fit(X_l_train_transformed, y_l_train)\n",
    "\n",
    "score_l.append(model_l.score(X_l_test_transformed, y_l_test))\n",
    "\n",
    "joblib.dump(model, 'retweet.model')\n",
    "joblib.dump(model_l, 'like.model')\n",
    "\n",
    "print('R^2 likes= ' + str(score_l[0]))\n",
    "print('R^2 Retweets= ' + str(score[0]))\n",
    "\n",
    "### IF IT IS NOT POSSIBLE TO DUMP THE MODEL IT IS BEC. SKLEARN REMOVED THE JOBLIB LIBRARY THEN YOU NEED TO IMPORT IT\n",
    "## FROM JOBLIB DIRECTLY"
   ]
  },
  {
   "cell_type": "code",
   "execution_count": null,
   "metadata": {},
   "outputs": [],
   "source": []
  },
  {
   "cell_type": "code",
   "execution_count": null,
   "metadata": {},
   "outputs": [],
   "source": []
  }
 ],
 "metadata": {
  "kernelspec": {
   "display_name": "Python 3",
   "language": "python",
   "name": "python3"
  },
  "language_info": {
   "codemirror_mode": {
    "name": "ipython",
    "version": 3
   },
   "file_extension": ".py",
   "mimetype": "text/x-python",
   "name": "python",
   "nbconvert_exporter": "python",
   "pygments_lexer": "ipython3",
   "version": "3.7.4"
  }
 },
 "nbformat": 4,
 "nbformat_minor": 2
}
